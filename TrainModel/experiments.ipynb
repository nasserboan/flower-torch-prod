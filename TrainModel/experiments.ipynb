{
 "cells": [
  {
   "cell_type": "code",
   "execution_count": 1,
   "metadata": {},
   "outputs": [],
   "source": [
    "import torch\n",
    "import torchvision\n",
    "from torchvision import datasets, models, transforms\n",
    "\n",
    "import numpy as np\n",
    "import os"
   ]
  },
  {
   "cell_type": "code",
   "execution_count": 7,
   "metadata": {},
   "outputs": [],
   "source": [
    "def _load_data(batch_size,num_workers) -> torch.utils.data.DataLoader:\n",
    "    \"\"\" Returns training and test data \"\"\"\n",
    "    \n",
    "    ## defining the folders\n",
    "    train_data_raw = os.path.abspath('../data/train/')\n",
    "    test_data_raw = os.path.abspath('../data/test/')\n",
    "    classes = ['daisy', 'dandelion', 'roses', 'sunflowers', 'tulips']\n",
    "    \n",
    "    ## transformations\n",
    "    data_transform = transforms.Compose([transforms.Resize((224,224)),\n",
    "                                         transforms.ToTensor()])\n",
    "    ## selecting the folders\n",
    "    train_data = datasets.ImageFolder(train_data_raw, transform=data_transform)\n",
    "    test_data = datasets.ImageFolder(test_data_raw, transform=data_transform)\n",
    "    \n",
    "    ## loading the data\n",
    "    train_loader = torch.utils.data.DataLoader(train_data, batch_size=batch_size, \n",
    "                                               num_workers=num_workers, shuffle=True)\n",
    "    \n",
    "    test_loader = torch.utils.data.DataLoader(test_data, batch_size=batch_size, \n",
    "                                              num_workers=num_workers, shuffle=True)\n",
    "    \n",
    "    return train_loader, test_loader\n",
    "\n",
    "def _build_pretrained_model(cuda=True) -> torchvision.models.vgg16:\n",
    "    model = models.vgg16(pretrained=True)\n",
    "    \n",
    "    for parameter in model.features.parameters():\n",
    "        parameter.requires_grad = False\n",
    "        \n",
    "    model.classifier[-1] = torch.nn.Linear(in_features=4096, out_features=5, bias=True)\n",
    "    \n",
    "    if cuda:\n",
    "        model.cuda()\n",
    "    \n",
    "    return model\n",
    "\n",
    "def train(epochs:int) -> torchvision.models.vgg16:\n",
    "    \n",
    "    model = _build_pretrained_model()\n",
    "    criterion = torch.nn.CrossEntropyLoss()\n",
    "    optimizer = torch.optim.Adam(model.parameters(), lr=3e-4)\n",
    "    \n",
    "    train,test = _load_data(32,0)\n",
    "    \n",
    "    for epoch in range(epochs):\n",
    "        for data in train:\n",
    "            \n",
    "            inputs, labels = data\n",
    "            inputs, labels = inputs.cuda(), labels.cuda()\n",
    "            \n",
    "            outputs = model(inputs)\n",
    "            loss = criterion(outputs,labels)\n",
    "            loss.backward()\n",
    "            optimizer.step()\n",
    "            optimizer.zero_grad()\n",
    "            \n",
    "        print(f'Epoch', epoch, end=' ')\n",
    "    \n",
    "    return model, train, test\n",
    "\n",
    "\n",
    "def test_model(model:torchvision.models.vgg16, test:torch.utils.data.DataLoader):\n",
    "    \n",
    "    correct, total = 0,0\n",
    "    predictions = []\n",
    "    model.eval()\n",
    "    \n",
    "    for data in test:\n",
    "        inputs, labels = data\n",
    "        inputs, labels = inputs.cuda(), labels.cuda()\n",
    "        \n",
    "        outputs = model(inputs)\n",
    "        _, predicted = torch.max(outputs.data, 1)\n",
    "        \n",
    "        predictions.append(predicted)\n",
    "        \n",
    "        total += labels.size(0)\n",
    "        correct += (predicted == labels).sum().item()\n",
    "        \n",
    "    print(f'ACC: ',(100*correct/total))\n",
    "\n",
    "def main():\n",
    "    if torch.cuda.is_available():\n",
    "        print('CUDA AVAILABLE')\n",
    "    else:\n",
    "        print('USING CPU')"
   ]
  },
  {
   "cell_type": "code",
   "execution_count": 3,
   "metadata": {},
   "outputs": [
    {
     "name": "stdout",
     "output_type": "stream",
     "text": [
      "Epoch  0 Epoch  1 Epoch  2 Epoch  3 Epoch  4 Epoch  5 Epoch  6 Epoch  7 Epoch  8 Epoch  9 Epoch  10 Epoch  11 Epoch  12 Epoch  13 Epoch  14 "
     ]
    }
   ],
   "source": [
    "model, train, test = train(15)"
   ]
  },
  {
   "cell_type": "code",
   "execution_count": 4,
   "metadata": {},
   "outputs": [
    {
     "name": "stdout",
     "output_type": "stream",
     "text": [
      "ACC:  80.74074074074075\n"
     ]
    }
   ],
   "source": [
    "test_model(model,test)"
   ]
  },
  {
   "cell_type": "code",
   "execution_count": 8,
   "metadata": {},
   "outputs": [
    {
     "name": "stdout",
     "output_type": "stream",
     "text": [
      "Epoch 0 Epoch 1 Epoch 2 Epoch 3 Epoch 4 Epoch 5 Epoch 6 Epoch 7 Epoch 8 Epoch 9 Epoch 10 Epoch 11 Epoch 12 Epoch 13 Epoch 14 "
     ]
    }
   ],
   "source": [
    "model, train, test = train(15)"
   ]
  },
  {
   "cell_type": "code",
   "execution_count": 9,
   "metadata": {},
   "outputs": [
    {
     "name": "stdout",
     "output_type": "stream",
     "text": [
      "ACC:  82.96296296296296\n"
     ]
    }
   ],
   "source": [
    "test_model(model,test)"
   ]
  }
 ],
 "metadata": {
  "kernelspec": {
   "display_name": "Python 3.7.7 64-bit ('deep': conda)",
   "language": "python",
   "name": "python37764bitdeepcondaecd524ed0b6841fd80271c4fd02a079a"
  },
  "language_info": {
   "codemirror_mode": {
    "name": "ipython",
    "version": 3
   },
   "file_extension": ".py",
   "mimetype": "text/x-python",
   "name": "python",
   "nbconvert_exporter": "python",
   "pygments_lexer": "ipython3",
   "version": "3.7.7"
  }
 },
 "nbformat": 4,
 "nbformat_minor": 4
}
